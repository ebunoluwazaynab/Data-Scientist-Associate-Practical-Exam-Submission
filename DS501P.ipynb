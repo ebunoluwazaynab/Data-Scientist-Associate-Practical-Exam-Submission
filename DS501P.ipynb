{
 "cells": [
  {
   "cell_type": "markdown",
   "id": "c45507da",
   "metadata": {},
   "source": [
    "## Exploratory Data Analysis"
   ]
  },
  {
   "cell_type": "code",
   "execution_count": 2,
   "id": "fee5ade5",
   "metadata": {},
   "outputs": [],
   "source": [
    "# import libraries for exploring the data\n",
    "import pandas as pd\n",
    "import numpy as np\n",
    "import matplotlib.pyplot as plt\n",
    "import seaborn as sns\n",
    "\n",
    "# To ignore any warnings\n",
    "import warnings\n",
    "warnings.filterwarnings('ignore')"
   ]
  },
  {
   "cell_type": "code",
   "execution_count": 3,
   "id": "0fac5c67",
   "metadata": {},
   "outputs": [],
   "source": [
    "# load data\n",
    "df = pd.read_csv(\"fitness_class.csv\")"
   ]
  },
  {
   "cell_type": "code",
   "execution_count": 4,
   "id": "4f362441",
   "metadata": {},
   "outputs": [
    {
     "data": {
      "text/html": [
       "<div>\n",
       "<style scoped>\n",
       "    .dataframe tbody tr th:only-of-type {\n",
       "        vertical-align: middle;\n",
       "    }\n",
       "\n",
       "    .dataframe tbody tr th {\n",
       "        vertical-align: top;\n",
       "    }\n",
       "\n",
       "    .dataframe thead th {\n",
       "        text-align: right;\n",
       "    }\n",
       "</style>\n",
       "<table border=\"1\" class=\"dataframe\">\n",
       "  <thead>\n",
       "    <tr style=\"text-align: right;\">\n",
       "      <th></th>\n",
       "      <th>booking_id</th>\n",
       "      <th>months_as_member</th>\n",
       "      <th>weight</th>\n",
       "      <th>days_before</th>\n",
       "      <th>day_of_week</th>\n",
       "      <th>time</th>\n",
       "      <th>category</th>\n",
       "      <th>attended</th>\n",
       "    </tr>\n",
       "  </thead>\n",
       "  <tbody>\n",
       "    <tr>\n",
       "      <th>0</th>\n",
       "      <td>1</td>\n",
       "      <td>17</td>\n",
       "      <td>79.56</td>\n",
       "      <td>8</td>\n",
       "      <td>Wed</td>\n",
       "      <td>PM</td>\n",
       "      <td>Strength</td>\n",
       "      <td>0</td>\n",
       "    </tr>\n",
       "    <tr>\n",
       "      <th>1</th>\n",
       "      <td>2</td>\n",
       "      <td>10</td>\n",
       "      <td>79.01</td>\n",
       "      <td>2</td>\n",
       "      <td>Mon</td>\n",
       "      <td>AM</td>\n",
       "      <td>HIIT</td>\n",
       "      <td>0</td>\n",
       "    </tr>\n",
       "    <tr>\n",
       "      <th>2</th>\n",
       "      <td>3</td>\n",
       "      <td>16</td>\n",
       "      <td>74.53</td>\n",
       "      <td>14</td>\n",
       "      <td>Sun</td>\n",
       "      <td>AM</td>\n",
       "      <td>Strength</td>\n",
       "      <td>0</td>\n",
       "    </tr>\n",
       "  </tbody>\n",
       "</table>\n",
       "</div>"
      ],
      "text/plain": [
       "   booking_id  months_as_member  weight days_before day_of_week time  \\\n",
       "0           1                17   79.56           8         Wed   PM   \n",
       "1           2                10   79.01           2         Mon   AM   \n",
       "2           3                16   74.53          14         Sun   AM   \n",
       "\n",
       "   category  attended  \n",
       "0  Strength         0  \n",
       "1      HIIT         0  \n",
       "2  Strength         0  "
      ]
     },
     "execution_count": 4,
     "metadata": {},
     "output_type": "execute_result"
    }
   ],
   "source": [
    "# view first 3 rows of the data\n",
    "df.head(3)"
   ]
  },
  {
   "cell_type": "code",
   "execution_count": 5,
   "id": "e19dd816",
   "metadata": {},
   "outputs": [
    {
     "data": {
      "text/plain": [
       "(1500, 8)"
      ]
     },
     "execution_count": 5,
     "metadata": {},
     "output_type": "execute_result"
    }
   ],
   "source": [
    "# print shape of data\n",
    "df.shape"
   ]
  },
  {
   "cell_type": "code",
   "execution_count": 6,
   "id": "8be0518f",
   "metadata": {},
   "outputs": [
    {
     "name": "stdout",
     "output_type": "stream",
     "text": [
      "<class 'pandas.core.frame.DataFrame'>\n",
      "RangeIndex: 1500 entries, 0 to 1499\n",
      "Data columns (total 8 columns):\n",
      " #   Column            Non-Null Count  Dtype  \n",
      "---  ------            --------------  -----  \n",
      " 0   booking_id        1500 non-null   int64  \n",
      " 1   months_as_member  1500 non-null   int64  \n",
      " 2   weight            1480 non-null   float64\n",
      " 3   days_before       1500 non-null   object \n",
      " 4   day_of_week       1500 non-null   object \n",
      " 5   time              1500 non-null   object \n",
      " 6   category          1500 non-null   object \n",
      " 7   attended          1500 non-null   int64  \n",
      "dtypes: float64(1), int64(3), object(4)\n",
      "memory usage: 93.9+ KB\n"
     ]
    }
   ],
   "source": [
    "# view information of data\n",
    "df.info()"
   ]
  },
  {
   "cell_type": "code",
   "execution_count": 7,
   "id": "1cf090c0",
   "metadata": {},
   "outputs": [],
   "source": [
    "# define function to quickly explore variables\n",
    "def explore_variable(df, col):\n",
    "    print(f'First Five & Last Five Values of {col} variable: ')\n",
    "    print(df[col])\n",
    "    print('-' * 30)\n",
    "    print()\n",
    "    print(f'{df[col].isna().sum()} missing values')\n",
    "    print('-' * 30)\n",
    "    print()\n",
    "    if (df[col].dtype == 'object'):\n",
    "        print(f'{df[col].nunique()} unique values')\n",
    "        print('-' * 30)\n",
    "        print()\n",
    "        print(df[col].unique())\n",
    "        print('-' * 30)\n",
    "        print()\n",
    "        print(round(df[col].value_counts()))\n",
    "        print('-' * 30)\n",
    "        print()\n",
    "    if (df[col].dtype == 'int64') | (df[col].dtype == 'float64'):\n",
    "        print(f'Description of {col} variable: ')\n",
    "        print(df[col].describe())"
   ]
  },
  {
   "cell_type": "code",
   "execution_count": 8,
   "id": "1a46aa8a",
   "metadata": {},
   "outputs": [
    {
     "name": "stdout",
     "output_type": "stream",
     "text": [
      "First Five & Last Five Values of booking_id variable: \n",
      "0          1\n",
      "1          2\n",
      "2          3\n",
      "3          4\n",
      "4          5\n",
      "        ... \n",
      "1495    1496\n",
      "1496    1497\n",
      "1497    1498\n",
      "1498    1499\n",
      "1499    1500\n",
      "Name: booking_id, Length: 1500, dtype: int64\n",
      "------------------------------\n",
      "\n",
      "0 missing values\n",
      "------------------------------\n",
      "\n",
      "Description of booking_id variable: \n",
      "count    1500.000000\n",
      "mean      750.500000\n",
      "std       433.157015\n",
      "min         1.000000\n",
      "25%       375.750000\n",
      "50%       750.500000\n",
      "75%      1125.250000\n",
      "max      1500.000000\n",
      "Name: booking_id, dtype: float64\n"
     ]
    }
   ],
   "source": [
    "explore_variable(df, 'booking_id')"
   ]
  },
  {
   "cell_type": "code",
   "execution_count": 9,
   "id": "539dd686",
   "metadata": {},
   "outputs": [
    {
     "name": "stdout",
     "output_type": "stream",
     "text": [
      "First Five & Last Five Values of months_as_member variable: \n",
      "0       17\n",
      "1       10\n",
      "2       16\n",
      "3        5\n",
      "4       15\n",
      "        ..\n",
      "1495    21\n",
      "1496    29\n",
      "1497     9\n",
      "1498    34\n",
      "1499    20\n",
      "Name: months_as_member, Length: 1500, dtype: int64\n",
      "------------------------------\n",
      "\n",
      "0 missing values\n",
      "------------------------------\n",
      "\n",
      "Description of months_as_member variable: \n",
      "count    1500.000000\n",
      "mean       15.628667\n",
      "std        12.926543\n",
      "min         1.000000\n",
      "25%         8.000000\n",
      "50%        12.000000\n",
      "75%        19.000000\n",
      "max       148.000000\n",
      "Name: months_as_member, dtype: float64\n"
     ]
    }
   ],
   "source": [
    "explore_variable(df, 'months_as_member')"
   ]
  },
  {
   "cell_type": "code",
   "execution_count": 10,
   "id": "786eba4f",
   "metadata": {},
   "outputs": [
    {
     "name": "stdout",
     "output_type": "stream",
     "text": [
      "First Five & Last Five Values of weight variable: \n",
      "0       79.56\n",
      "1       79.01\n",
      "2       74.53\n",
      "3       86.12\n",
      "4       69.29\n",
      "        ...  \n",
      "1495    79.51\n",
      "1496    89.55\n",
      "1497    87.38\n",
      "1498    68.64\n",
      "1499    94.39\n",
      "Name: weight, Length: 1500, dtype: float64\n",
      "------------------------------\n",
      "\n",
      "20 missing values\n",
      "------------------------------\n",
      "\n",
      "Description of weight variable: \n",
      "count    1480.000000\n",
      "mean       82.610378\n",
      "std        12.765859\n",
      "min        55.410000\n",
      "25%        73.490000\n",
      "50%        80.760000\n",
      "75%        89.520000\n",
      "max       170.520000\n",
      "Name: weight, dtype: float64\n"
     ]
    }
   ],
   "source": [
    "explore_variable(df, 'weight')"
   ]
  },
  {
   "cell_type": "code",
   "execution_count": 11,
   "id": "e2983bfd",
   "metadata": {},
   "outputs": [
    {
     "name": "stdout",
     "output_type": "stream",
     "text": [
      "First Five & Last Five Values of days_before variable: \n",
      "0        8\n",
      "1        2\n",
      "2       14\n",
      "3       10\n",
      "4        8\n",
      "        ..\n",
      "1495    10\n",
      "1496     2\n",
      "1497     4\n",
      "1498    14\n",
      "1499     8\n",
      "Name: days_before, Length: 1500, dtype: object\n",
      "------------------------------\n",
      "\n",
      "0 missing values\n",
      "------------------------------\n",
      "\n",
      "31 unique values\n",
      "------------------------------\n",
      "\n",
      "['8' '2' '14' '10' '6' '4' '9' '12' '5' '3' '7' '13' '12 days' '20' '1'\n",
      " '15' '6 days' '11' '13 days' '3 days' '16' '1 days' '7 days' '8 days'\n",
      " '10 days' '14 days' '17' '5 days' '2 days' '4 days' '29']\n",
      "------------------------------\n",
      "\n",
      "10         293\n",
      "2          199\n",
      "8          194\n",
      "12         178\n",
      "14         172\n",
      "4          154\n",
      "6           70\n",
      "7           38\n",
      "3           31\n",
      "5           30\n",
      "11          26\n",
      "13          25\n",
      "15          24\n",
      "9           24\n",
      "1            9\n",
      "10 days      6\n",
      "14 days      3\n",
      "12 days      3\n",
      "6 days       3\n",
      "4 days       3\n",
      "16           3\n",
      "17           3\n",
      "20           1\n",
      "2 days       1\n",
      "5 days       1\n",
      "7 days       1\n",
      "8 days       1\n",
      "1 days       1\n",
      "3 days       1\n",
      "13 days      1\n",
      "29           1\n",
      "Name: days_before, dtype: int64\n",
      "------------------------------\n",
      "\n"
     ]
    }
   ],
   "source": [
    "explore_variable(df, 'days_before')"
   ]
  },
  {
   "cell_type": "code",
   "execution_count": 12,
   "id": "49603a2a",
   "metadata": {},
   "outputs": [
    {
     "name": "stdout",
     "output_type": "stream",
     "text": [
      "First Five & Last Five Values of day_of_week variable: \n",
      "0       Wed\n",
      "1       Mon\n",
      "2       Sun\n",
      "3       Fri\n",
      "4       Thu\n",
      "       ... \n",
      "1495    Fri\n",
      "1496    Mon\n",
      "1497    Tue\n",
      "1498    Sun\n",
      "1499    Thu\n",
      "Name: day_of_week, Length: 1500, dtype: object\n",
      "------------------------------\n",
      "\n",
      "0 missing values\n",
      "------------------------------\n",
      "\n",
      "10 unique values\n",
      "------------------------------\n",
      "\n",
      "['Wed' 'Mon' 'Sun' 'Fri' 'Thu' 'Wednesday' 'Fri.' 'Tue' 'Sat' 'Monday']\n",
      "------------------------------\n",
      "\n",
      "Fri          279\n",
      "Thu          241\n",
      "Mon          218\n",
      "Sun          213\n",
      "Sat          202\n",
      "Tue          195\n",
      "Wed           81\n",
      "Wednesday     35\n",
      "Fri.          26\n",
      "Monday        10\n",
      "Name: day_of_week, dtype: int64\n",
      "------------------------------\n",
      "\n"
     ]
    }
   ],
   "source": [
    "explore_variable(df, 'day_of_week')"
   ]
  },
  {
   "cell_type": "code",
   "execution_count": 13,
   "id": "e8f9e905",
   "metadata": {},
   "outputs": [
    {
     "name": "stdout",
     "output_type": "stream",
     "text": [
      "First Five & Last Five Values of time variable: \n",
      "0       PM\n",
      "1       AM\n",
      "2       AM\n",
      "3       AM\n",
      "4       AM\n",
      "        ..\n",
      "1495    AM\n",
      "1496    AM\n",
      "1497    AM\n",
      "1498    AM\n",
      "1499    AM\n",
      "Name: time, Length: 1500, dtype: object\n",
      "------------------------------\n",
      "\n",
      "0 missing values\n",
      "------------------------------\n",
      "\n",
      "2 unique values\n",
      "------------------------------\n",
      "\n",
      "['PM' 'AM']\n",
      "------------------------------\n",
      "\n",
      "AM    1141\n",
      "PM     359\n",
      "Name: time, dtype: int64\n",
      "------------------------------\n",
      "\n"
     ]
    }
   ],
   "source": [
    "explore_variable(df, 'time')"
   ]
  },
  {
   "cell_type": "code",
   "execution_count": 14,
   "id": "5725d550",
   "metadata": {},
   "outputs": [
    {
     "name": "stdout",
     "output_type": "stream",
     "text": [
      "First Five & Last Five Values of category variable: \n",
      "0       Strength\n",
      "1           HIIT\n",
      "2       Strength\n",
      "3        Cycling\n",
      "4           HIIT\n",
      "          ...   \n",
      "1495        HIIT\n",
      "1496    Strength\n",
      "1497        HIIT\n",
      "1498        Aqua\n",
      "1499     Cycling\n",
      "Name: category, Length: 1500, dtype: object\n",
      "------------------------------\n",
      "\n",
      "0 missing values\n",
      "------------------------------\n",
      "\n",
      "6 unique values\n",
      "------------------------------\n",
      "\n",
      "['Strength' 'HIIT' 'Cycling' 'Yoga' '-' 'Aqua']\n",
      "------------------------------\n",
      "\n",
      "HIIT        667\n",
      "Cycling     376\n",
      "Strength    233\n",
      "Yoga        135\n",
      "Aqua         76\n",
      "-            13\n",
      "Name: category, dtype: int64\n",
      "------------------------------\n",
      "\n"
     ]
    }
   ],
   "source": [
    "explore_variable(df, 'category')"
   ]
  },
  {
   "cell_type": "code",
   "execution_count": 15,
   "id": "bca494d3",
   "metadata": {},
   "outputs": [
    {
     "name": "stdout",
     "output_type": "stream",
     "text": [
      "First Five & Last Five Values of attended variable: \n",
      "0       0\n",
      "1       0\n",
      "2       0\n",
      "3       0\n",
      "4       0\n",
      "       ..\n",
      "1495    0\n",
      "1496    0\n",
      "1497    0\n",
      "1498    0\n",
      "1499    1\n",
      "Name: attended, Length: 1500, dtype: int64\n",
      "------------------------------\n",
      "\n",
      "0 missing values\n",
      "------------------------------\n",
      "\n",
      "Description of attended variable: \n",
      "count    1500.000000\n",
      "mean        0.302667\n",
      "std         0.459565\n",
      "min         0.000000\n",
      "25%         0.000000\n",
      "50%         0.000000\n",
      "75%         1.000000\n",
      "max         1.000000\n",
      "Name: attended, dtype: float64\n"
     ]
    }
   ],
   "source": [
    "explore_variable(df, 'attended')"
   ]
  },
  {
   "cell_type": "markdown",
   "id": "aafbfbd9",
   "metadata": {},
   "source": [
    "## Data Cleaning"
   ]
  },
  {
   "cell_type": "code",
   "execution_count": 16,
   "id": "d36fc5bc",
   "metadata": {},
   "outputs": [],
   "source": [
    "# create a copy of the dataframe\n",
    "df_clean = df.copy()"
   ]
  },
  {
   "cell_type": "code",
   "execution_count": 17,
   "id": "99e183aa",
   "metadata": {},
   "outputs": [
    {
     "data": {
      "text/plain": [
       "0"
      ]
     },
     "execution_count": 17,
     "metadata": {},
     "output_type": "execute_result"
    }
   ],
   "source": [
    "# Replace missing values with the overall average weight\n",
    "\n",
    "weight_avg = np.round(df_clean['weight'].mean(), 2)\n",
    "df_clean['weight'].fillna(weight_avg,  inplace = True)\n",
    "df_clean['weight'].isna().sum()"
   ]
  },
  {
   "cell_type": "code",
   "execution_count": 18,
   "id": "9ece61ad",
   "metadata": {},
   "outputs": [
    {
     "data": {
      "text/plain": [
       "array([ 8,  2, 14, 10,  6,  4,  9, 12,  5,  3,  7, 13, 20,  1, 15, 11, 16,\n",
       "       17, 29], dtype=int64)"
      ]
     },
     "execution_count": 18,
     "metadata": {},
     "output_type": "execute_result"
    }
   ],
   "source": [
    "# clean the days_before variable\n",
    "df_clean['days_before'] = df_clean['days_before'].str.split(' ', n = 2, expand = True)[0]\n",
    "df_clean['days_before'] = df_clean['days_before'].astype('int64')\n",
    "df_clean['days_before'].unique()"
   ]
  },
  {
   "cell_type": "code",
   "execution_count": 19,
   "id": "37481833",
   "metadata": {},
   "outputs": [
    {
     "data": {
      "text/plain": [
       "array(['Wed', 'Mon', 'Sun', 'Fri', 'Thu', 'Tue', 'Sat'], dtype=object)"
      ]
     },
     "execution_count": 19,
     "metadata": {},
     "output_type": "execute_result"
    }
   ],
   "source": [
    "# clean day_of_week variable\n",
    "df_clean['day_of_week'] = df_clean['day_of_week'].apply(lambda day:''.join([word for word in day[:3]]))\n",
    "df_clean['day_of_week'].unique()"
   ]
  },
  {
   "cell_type": "code",
   "execution_count": 20,
   "id": "f61aed21",
   "metadata": {},
   "outputs": [
    {
     "data": {
      "text/plain": [
       "array(['Strength', 'HIIT', 'Cycling', 'Yoga', 'Unknown', 'Aqua'],\n",
       "      dtype=object)"
      ]
     },
     "execution_count": 20,
     "metadata": {},
     "output_type": "execute_result"
    }
   ],
   "source": [
    "# clean category variable\n",
    "df_clean['category'] = df_clean['category'].replace({'-':'Unknown'})\n",
    "df_clean['category'].unique()"
   ]
  },
  {
   "cell_type": "code",
   "execution_count": 21,
   "id": "ceda1310",
   "metadata": {},
   "outputs": [],
   "source": [
    "del df_clean['booking_id']"
   ]
  },
  {
   "cell_type": "code",
   "execution_count": 22,
   "id": "705766c8",
   "metadata": {},
   "outputs": [
    {
     "data": {
      "text/plain": [
       "(1500, 7)"
      ]
     },
     "execution_count": 22,
     "metadata": {},
     "output_type": "execute_result"
    }
   ],
   "source": [
    "# view shape of cleaned data\n",
    "df_clean.shape"
   ]
  },
  {
   "cell_type": "markdown",
   "id": "aae2670b",
   "metadata": {},
   "source": [
    "### Task 1\n",
    "The dataset contains **1500** rows and **8** columns with some missing values before cleaning. I have validated all the columns against the criteria in the dataset table:\n",
    "\n",
    "1. **booking_id**\n",
    "- *Same as description.*  \n",
    "- *No missing values.*\n",
    " \n",
    "2. **months_as_member**\n",
    "- *Same as description.*  \n",
    "- *No missing values.*\n",
    "\n",
    "3. **weight**\n",
    "- *Same as description.*\n",
    "- *20 missing values.*  \n",
    "- *Replaced missing values with the overall average weight*\n",
    "\n",
    "4. **days_before**\n",
    "- *Values don't match the description*\n",
    "- *No Missing values*\n",
    "- *To make values match the description, I splitted the values in the days_before column using space to get just the number of days and changed the data type to int64. E.g., 1 days becomes 1*\n",
    "\n",
    "4. **day_of_week**\n",
    "- *Values don't match the description*\n",
    "- *No Missing values*\n",
    "- *To make values match the description, I used the pandas dataframe apply method and a lambda function to get th first 3 words in a string. E.g., Wednesday becomes Wed*\n",
    "\n",
    "4. **time**\n",
    "- *Same as description.*  \n",
    "- *No missing values.*\n",
    "\n",
    "4. **category**\n",
    "- *Values don't match the description*\n",
    "- *No missing values.*\n",
    "- *To make values match the description, I replaced the 13 _s with the value 'Unknown'. E.g., _ becomes Unknown*\n",
    "\n",
    "5. **attended**\n",
    "- *Same as description.*  \n",
    "- *No missing values.*\n",
    "\n",
    "After the data validation, the dataset still contains **1500** rows and **7** columns."
   ]
  },
  {
   "cell_type": "markdown",
   "id": "8ed0b7cd",
   "metadata": {},
   "source": [
    "### Task 2"
   ]
  },
  {
   "cell_type": "code",
   "execution_count": 23,
   "id": "7c36e4cd",
   "metadata": {},
   "outputs": [
    {
     "data": {
      "image/png": "[encoded data removed]",
      "text/plain": [
       "<Figure size 1296x576 with 1 Axes>"
      ]
     },
     "metadata": {
      "needs_background": "light"
     },
     "output_type": "display_data"
    }
   ],
   "source": [
    "# visualization that shows how many bookings attended the class\n",
    "\n",
    "plt.figure(figsize = (18, 8)) \n",
    "df_clean['attended'].value_counts().plot(kind = \"bar\")\n",
    "plt.xlabel('', size = 16, fontweight = 'bold')\n",
    "plt.xticks([0, 1], ['Did not Attend', 'Attended'], fontweight = \"bold\", rotation = 360, fontsize = 14)\n",
    "plt.yticks(fontweight = \"bold\", fontsize = 14)\n",
    "plt.ylabel('', size = 16, fontweight = 'bold')\n",
    "plt.title('Count of Bookings that Attended the Class', size = 20, fontweight = 'bold')\n",
    "    \n",
    "plt.show()  "
   ]
  },
  {
   "cell_type": "markdown",
   "id": "84286c5d",
   "metadata": {},
   "source": [
    "**a**. '0' that stands for member did not attend the class has the most observations  \n",
    "**b**.  The observations are not balanced. About 70% of the obseravtions did not attend the class whilst about 30% attended the class.\n"
   ]
  },
  {
   "cell_type": "markdown",
   "id": "06ae5263",
   "metadata": {},
   "source": [
    "### Task 3"
   ]
  },
  {
   "cell_type": "code",
   "execution_count": 24,
   "id": "bb8054fb",
   "metadata": {},
   "outputs": [
    {
     "data": {
      "image/png": "[encoded data removed]",
      "text/plain": [
       "<Figure size 1296x576 with 1 Axes>"
      ]
     },
     "metadata": {
      "needs_background": "light"
     },
     "output_type": "display_data"
    }
   ],
   "source": [
    "# visualization to describe the distribution of the months as a member variable\n",
    "\n",
    "plt.figure(figsize = (18, 8)) \n",
    "sns.distplot(df_clean['months_as_member']);\n",
    "plt.ylabel('Density', fontsize = 16, fontweight = \"bold\")\n",
    "plt.xlabel('Number of Months as a Member', fontsize = 16, fontweight = \"bold\")\n",
    "plt.xticks(fontweight = \"bold\", fontsize = 14)\n",
    "plt.yticks(fontweight = \"bold\", fontsize = 14)\n",
    "plt.title('Density Plot of Number of Months as a Member', fontsize = 20, loc = 'center', fontweight = \"bold\")\n",
    "    \n",
    "plt.show()  "
   ]
  },
  {
   "cell_type": "markdown",
   "id": "9b54baed",
   "metadata": {},
   "source": [
    "* The distribution of the number of months as a member's column is right skewed i.e., the frequency data is not spread evenly (normally distributed). The data is clustered at the left end and has a long tail that extends towards the right. "
   ]
  },
  {
   "cell_type": "markdown",
   "id": "caa64bcb",
   "metadata": {},
   "source": [
    "### Task 4"
   ]
  },
  {
   "cell_type": "code",
   "execution_count": 25,
   "id": "6aed3254",
   "metadata": {},
   "outputs": [
    {
     "data": {
      "image/png": "[encoded data removed]",
      "text/plain": [
       "<Figure size 1296x576 with 1 Axes>"
      ]
     },
     "metadata": {
      "needs_background": "light"
     },
     "output_type": "display_data"
    }
   ],
   "source": [
    "# Visualization to show the relationship between attendance and number of months as a member\n",
    "\n",
    "plt.figure(figsize = (18, 8)) \n",
    "\n",
    "sns.boxplot(df_clean['attended'], df_clean['months_as_member'], \n",
    "            linewidth=0.8);\n",
    "\n",
    "plt.xlabel('')\n",
    "plt.ylabel('Number of Months as a Member', fontsize = 16, fontweight = \"bold\")\n",
    "plt.xticks([0, 1], ['Did not Attend', 'Attended'], fontweight = \"bold\", rotation = 360, fontsize = 14)\n",
    "plt.yticks(fontweight = \"bold\", fontsize = 14)\n",
    "plt.title('Attendance vs Number of Months as a Member', fontsize = 20, loc = 'center', fontweight = \"bold\")\n",
    "    \n",
    "plt.show()  "
   ]
  },
  {
   "cell_type": "markdown",
   "id": "e77e80ab",
   "metadata": {},
   "source": [
    "* The higher the number of months as a fitness club member, the higher the attendance percentage. i.e., "
   ]
  },
  {
   "cell_type": "markdown",
   "id": "75ab1aa6",
   "metadata": {},
   "source": [
    "### Task 5\n",
    "Predicting whether member will attend the class or not is a binary **classification** problem in machine learning. "
   ]
  },
  {
   "cell_type": "markdown",
   "id": "b9cb17f0",
   "metadata": {},
   "source": [
    "## Preprocessing"
   ]
  },
  {
   "cell_type": "code",
   "execution_count": 26,
   "id": "d62ea461",
   "metadata": {},
   "outputs": [],
   "source": [
    "from sklearn.preprocessing import LabelEncoder\n",
    "\n",
    "le_cat = LabelEncoder()\n",
    "df_clean['category'] = le_cat.fit_transform(df_clean['category'])\n",
    "\n",
    "le_time = LabelEncoder()\n",
    "df_clean['time'] = le_time.fit_transform(df_clean['time'])\n",
    "features = df_clean.drop(columns = 'attended')\n",
    "\n",
    "X = pd.get_dummies(features, columns = ['day_of_week'])\n",
    "y = df_clean['attended'].copy()"
   ]
  },
  {
   "cell_type": "code",
   "execution_count": 27,
   "id": "62b4abdb",
   "metadata": {},
   "outputs": [
    {
     "data": {
      "text/html": [
       "<div>\n",
       "<style scoped>\n",
       "    .dataframe tbody tr th:only-of-type {\n",
       "        vertical-align: middle;\n",
       "    }\n",
       "\n",
       "    .dataframe tbody tr th {\n",
       "        vertical-align: top;\n",
       "    }\n",
       "\n",
       "    .dataframe thead th {\n",
       "        text-align: right;\n",
       "    }\n",
       "</style>\n",
       "<table border=\"1\" class=\"dataframe\">\n",
       "  <thead>\n",
       "    <tr style=\"text-align: right;\">\n",
       "      <th></th>\n",
       "      <th>months_as_member</th>\n",
       "      <th>weight</th>\n",
       "      <th>days_before</th>\n",
       "      <th>time</th>\n",
       "      <th>category</th>\n",
       "      <th>day_of_week_Fri</th>\n",
       "      <th>day_of_week_Mon</th>\n",
       "      <th>day_of_week_Sat</th>\n",
       "      <th>day_of_week_Sun</th>\n",
       "      <th>day_of_week_Thu</th>\n",
       "      <th>day_of_week_Tue</th>\n",
       "      <th>day_of_week_Wed</th>\n",
       "    </tr>\n",
       "  </thead>\n",
       "  <tbody>\n",
       "    <tr>\n",
       "      <th>0</th>\n",
       "      <td>17</td>\n",
       "      <td>79.56</td>\n",
       "      <td>8</td>\n",
       "      <td>1</td>\n",
       "      <td>3</td>\n",
       "      <td>0</td>\n",
       "      <td>0</td>\n",
       "      <td>0</td>\n",
       "      <td>0</td>\n",
       "      <td>0</td>\n",
       "      <td>0</td>\n",
       "      <td>1</td>\n",
       "    </tr>\n",
       "    <tr>\n",
       "      <th>1</th>\n",
       "      <td>10</td>\n",
       "      <td>79.01</td>\n",
       "      <td>2</td>\n",
       "      <td>0</td>\n",
       "      <td>2</td>\n",
       "      <td>0</td>\n",
       "      <td>1</td>\n",
       "      <td>0</td>\n",
       "      <td>0</td>\n",
       "      <td>0</td>\n",
       "      <td>0</td>\n",
       "      <td>0</td>\n",
       "    </tr>\n",
       "  </tbody>\n",
       "</table>\n",
       "</div>"
      ],
      "text/plain": [
       "   months_as_member  weight  days_before  time  category  day_of_week_Fri  \\\n",
       "0                17   79.56            8     1         3                0   \n",
       "1                10   79.01            2     0         2                0   \n",
       "\n",
       "   day_of_week_Mon  day_of_week_Sat  day_of_week_Sun  day_of_week_Thu  \\\n",
       "0                0                0                0                0   \n",
       "1                1                0                0                0   \n",
       "\n",
       "   day_of_week_Tue  day_of_week_Wed  \n",
       "0                0                1  \n",
       "1                0                0  "
      ]
     },
     "execution_count": 27,
     "metadata": {},
     "output_type": "execute_result"
    }
   ],
   "source": [
    "X.head(2)"
   ]
  },
  {
   "cell_type": "code",
   "execution_count": 28,
   "id": "792f0574",
   "metadata": {},
   "outputs": [
    {
     "data": {
      "text/plain": [
       "0    0\n",
       "1    0\n",
       "Name: attended, dtype: int64"
      ]
     },
     "execution_count": 28,
     "metadata": {},
     "output_type": "execute_result"
    }
   ],
   "source": [
    "y.head(2)"
   ]
  },
  {
   "cell_type": "code",
   "execution_count": 29,
   "id": "7abf528d",
   "metadata": {},
   "outputs": [],
   "source": [
    "# split dataset into 70% training set and 30% test set\n",
    "\n",
    "from sklearn.model_selection import train_test_split\n",
    "X_train, X_test, y_train, y_test = train_test_split(X, y, test_size = 0.3, random_state = 1)"
   ]
  },
  {
   "cell_type": "markdown",
   "id": "48986fb3",
   "metadata": {},
   "source": [
    "## Modelling"
   ]
  },
  {
   "cell_type": "markdown",
   "id": "23a40434",
   "metadata": {},
   "source": [
    "### Task 6"
   ]
  },
  {
   "cell_type": "code",
   "execution_count": 36,
   "id": "c60d9a73",
   "metadata": {},
   "outputs": [
    {
     "data": {
      "text/html": [
       "<style>#sk-container-id-4 {color: black;background-color: white;}#sk-container-id-4 pre{padding: 0;}#sk-container-id-4 div.sk-toggleable {background-color: white;}#sk-container-id-4 label.sk-toggleable__label {cursor: pointer;display: block;width: 100%;margin-bottom: 0;padding: 0.3em;box-sizing: border-box;text-align: center;}#sk-container-id-4 label.sk-toggleable__label-arrow:before {content: \"▸\";float: left;margin-right: 0.25em;color: #696969;}#sk-container-id-4 label.sk-toggleable__label-arrow:hover:before {color: black;}#sk-container-id-4 div.sk-estimator:hover label.sk-toggleable__label-arrow:before {color: black;}#sk-container-id-4 div.sk-toggleable__content {max-height: 0;max-width: 0;overflow: hidden;text-align: left;background-color: #f0f8ff;}#sk-container-id-4 div.sk-toggleable__content pre {margin: 0.2em;color: black;border-radius: 0.25em;background-color: #f0f8ff;}#sk-container-id-4 input.sk-toggleable__control:checked~div.sk-toggleable__content {max-height: 200px;max-width: 100%;overflow: auto;}#sk-container-id-4 input.sk-toggleable__control:checked~label.sk-toggleable__label-arrow:before {content: \"▾\";}#sk-container-id-4 div.sk-estimator input.sk-toggleable__control:checked~label.sk-toggleable__label {background-color: #d4ebff;}#sk-container-id-4 div.sk-label input.sk-toggleable__control:checked~label.sk-toggleable__label {background-color: #d4ebff;}#sk-container-id-4 input.sk-hidden--visually {border: 0;clip: rect(1px 1px 1px 1px);clip: rect(1px, 1px, 1px, 1px);height: 1px;margin: -1px;overflow: hidden;padding: 0;position: absolute;width: 1px;}#sk-container-id-4 div.sk-estimator {font-family: monospace;background-color: #f0f8ff;border: 1px dotted black;border-radius: 0.25em;box-sizing: border-box;margin-bottom: 0.5em;}#sk-container-id-4 div.sk-estimator:hover {background-color: #d4ebff;}#sk-container-id-4 div.sk-parallel-item::after {content: \"\";width: 100%;border-bottom: 1px solid gray;flex-grow: 1;}#sk-container-id-4 div.sk-label:hover label.sk-toggleable__label {background-color: #d4ebff;}#sk-container-id-4 div.sk-serial::before {content: \"\";position: absolute;border-left: 1px solid gray;box-sizing: border-box;top: 0;bottom: 0;left: 50%;z-index: 0;}#sk-container-id-4 div.sk-serial {display: flex;flex-direction: column;align-items: center;background-color: white;padding-right: 0.2em;padding-left: 0.2em;position: relative;}#sk-container-id-4 div.sk-item {position: relative;z-index: 1;}#sk-container-id-4 div.sk-parallel {display: flex;align-items: stretch;justify-content: center;background-color: white;position: relative;}#sk-container-id-4 div.sk-item::before, #sk-container-id-4 div.sk-parallel-item::before {content: \"\";position: absolute;border-left: 1px solid gray;box-sizing: border-box;top: 0;bottom: 0;left: 50%;z-index: -1;}#sk-container-id-4 div.sk-parallel-item {display: flex;flex-direction: column;z-index: 1;position: relative;background-color: white;}#sk-container-id-4 div.sk-parallel-item:first-child::after {align-self: flex-end;width: 50%;}#sk-container-id-4 div.sk-parallel-item:last-child::after {align-self: flex-start;width: 50%;}#sk-container-id-4 div.sk-parallel-item:only-child::after {width: 0;}#sk-container-id-4 div.sk-dashed-wrapped {border: 1px dashed gray;margin: 0 0.4em 0.5em 0.4em;box-sizing: border-box;padding-bottom: 0.4em;background-color: white;}#sk-container-id-4 div.sk-label label {font-family: monospace;font-weight: bold;display: inline-block;line-height: 1.2em;}#sk-container-id-4 div.sk-label-container {text-align: center;}#sk-container-id-4 div.sk-container {/* jupyter's `normalize.less` sets `[hidden] { display: none; }` but bootstrap.min.css set `[hidden] { display: none !important; }` so we also need the `!important` here to be able to override the default hidden behavior on the sphinx rendered scikit-learn.org. See: https://github.com/scikit-learn/scikit-learn/issues/21755 */display: inline-block !important;position: relative;}#sk-container-id-4 div.sk-text-repr-fallback {display: none;}</style><div id=\"sk-container-id-4\" class=\"sk-top-container\"><div class=\"sk-text-repr-fallback\"><pre>RandomForestClassifier()</pre><b>In a Jupyter environment, please rerun this cell to show the HTML representation or trust the notebook. <br />On GitHub, the HTML representation is unable to render, please try loading this page with nbviewer.org.</b></div><div class=\"sk-container\" hidden><div class=\"sk-item\"><div class=\"sk-estimator sk-toggleable\"><input class=\"sk-toggleable__control sk-hidden--visually\" id=\"sk-estimator-id-4\" type=\"checkbox\" checked><label for=\"sk-estimator-id-4\" class=\"sk-toggleable__label sk-toggleable__label-arrow\">RandomForestClassifier</label><div class=\"sk-toggleable__content\"><pre>RandomForestClassifier()</pre></div></div></div></div></div>"
      ],
      "text/plain": [
       "RandomForestClassifier()"
      ]
     },
     "execution_count": 36,
     "metadata": {},
     "output_type": "execute_result"
    }
   ],
   "source": [
    "# import AdaBoostClassifier to build baseline model\n",
    "from sklearn.ensemble import RandomForestClassifier\n",
    "\n",
    "# fit baseline model\n",
    "rf_model = RandomForestClassifier()\n",
    "rf_model.fit(X_train, y_train)"
   ]
  },
  {
   "cell_type": "markdown",
   "id": "63003a2c",
   "metadata": {},
   "source": [
    "### Task 7"
   ]
  },
  {
   "cell_type": "code",
   "execution_count": 37,
   "id": "efcac93a",
   "metadata": {},
   "outputs": [
    {
     "data": {
      "text/html": [
       "<style>#sk-container-id-5 {color: black;background-color: white;}#sk-container-id-5 pre{padding: 0;}#sk-container-id-5 div.sk-toggleable {background-color: white;}#sk-container-id-5 label.sk-toggleable__label {cursor: pointer;display: block;width: 100%;margin-bottom: 0;padding: 0.3em;box-sizing: border-box;text-align: center;}#sk-container-id-5 label.sk-toggleable__label-arrow:before {content: \"▸\";float: left;margin-right: 0.25em;color: #696969;}#sk-container-id-5 label.sk-toggleable__label-arrow:hover:before {color: black;}#sk-container-id-5 div.sk-estimator:hover label.sk-toggleable__label-arrow:before {color: black;}#sk-container-id-5 div.sk-toggleable__content {max-height: 0;max-width: 0;overflow: hidden;text-align: left;background-color: #f0f8ff;}#sk-container-id-5 div.sk-toggleable__content pre {margin: 0.2em;color: black;border-radius: 0.25em;background-color: #f0f8ff;}#sk-container-id-5 input.sk-toggleable__control:checked~div.sk-toggleable__content {max-height: 200px;max-width: 100%;overflow: auto;}#sk-container-id-5 input.sk-toggleable__control:checked~label.sk-toggleable__label-arrow:before {content: \"▾\";}#sk-container-id-5 div.sk-estimator input.sk-toggleable__control:checked~label.sk-toggleable__label {background-color: #d4ebff;}#sk-container-id-5 div.sk-label input.sk-toggleable__control:checked~label.sk-toggleable__label {background-color: #d4ebff;}#sk-container-id-5 input.sk-hidden--visually {border: 0;clip: rect(1px 1px 1px 1px);clip: rect(1px, 1px, 1px, 1px);height: 1px;margin: -1px;overflow: hidden;padding: 0;position: absolute;width: 1px;}#sk-container-id-5 div.sk-estimator {font-family: monospace;background-color: #f0f8ff;border: 1px dotted black;border-radius: 0.25em;box-sizing: border-box;margin-bottom: 0.5em;}#sk-container-id-5 div.sk-estimator:hover {background-color: #d4ebff;}#sk-container-id-5 div.sk-parallel-item::after {content: \"\";width: 100%;border-bottom: 1px solid gray;flex-grow: 1;}#sk-container-id-5 div.sk-label:hover label.sk-toggleable__label {background-color: #d4ebff;}#sk-container-id-5 div.sk-serial::before {content: \"\";position: absolute;border-left: 1px solid gray;box-sizing: border-box;top: 0;bottom: 0;left: 50%;z-index: 0;}#sk-container-id-5 div.sk-serial {display: flex;flex-direction: column;align-items: center;background-color: white;padding-right: 0.2em;padding-left: 0.2em;position: relative;}#sk-container-id-5 div.sk-item {position: relative;z-index: 1;}#sk-container-id-5 div.sk-parallel {display: flex;align-items: stretch;justify-content: center;background-color: white;position: relative;}#sk-container-id-5 div.sk-item::before, #sk-container-id-5 div.sk-parallel-item::before {content: \"\";position: absolute;border-left: 1px solid gray;box-sizing: border-box;top: 0;bottom: 0;left: 50%;z-index: -1;}#sk-container-id-5 div.sk-parallel-item {display: flex;flex-direction: column;z-index: 1;position: relative;background-color: white;}#sk-container-id-5 div.sk-parallel-item:first-child::after {align-self: flex-end;width: 50%;}#sk-container-id-5 div.sk-parallel-item:last-child::after {align-self: flex-start;width: 50%;}#sk-container-id-5 div.sk-parallel-item:only-child::after {width: 0;}#sk-container-id-5 div.sk-dashed-wrapped {border: 1px dashed gray;margin: 0 0.4em 0.5em 0.4em;box-sizing: border-box;padding-bottom: 0.4em;background-color: white;}#sk-container-id-5 div.sk-label label {font-family: monospace;font-weight: bold;display: inline-block;line-height: 1.2em;}#sk-container-id-5 div.sk-label-container {text-align: center;}#sk-container-id-5 div.sk-container {/* jupyter's `normalize.less` sets `[hidden] { display: none; }` but bootstrap.min.css set `[hidden] { display: none !important; }` so we also need the `!important` here to be able to override the default hidden behavior on the sphinx rendered scikit-learn.org. See: https://github.com/scikit-learn/scikit-learn/issues/21755 */display: inline-block !important;position: relative;}#sk-container-id-5 div.sk-text-repr-fallback {display: none;}</style><div id=\"sk-container-id-5\" class=\"sk-top-container\"><div class=\"sk-text-repr-fallback\"><pre>LogisticRegression()</pre><b>In a Jupyter environment, please rerun this cell to show the HTML representation or trust the notebook. <br />On GitHub, the HTML representation is unable to render, please try loading this page with nbviewer.org.</b></div><div class=\"sk-container\" hidden><div class=\"sk-item\"><div class=\"sk-estimator sk-toggleable\"><input class=\"sk-toggleable__control sk-hidden--visually\" id=\"sk-estimator-id-5\" type=\"checkbox\" checked><label for=\"sk-estimator-id-5\" class=\"sk-toggleable__label sk-toggleable__label-arrow\">LogisticRegression</label><div class=\"sk-toggleable__content\"><pre>LogisticRegression()</pre></div></div></div></div></div>"
      ],
      "text/plain": [
       "LogisticRegression()"
      ]
     },
     "execution_count": 37,
     "metadata": {},
     "output_type": "execute_result"
    }
   ],
   "source": [
    "# import Logistic Regression Model to build a comparison model\n",
    "from sklearn.linear_model import LogisticRegression\n",
    "\n",
    "# fit comparison model\n",
    "lrg_model = LogisticRegression()\n",
    "lrg_model.fit(X_train, y_train)"
   ]
  },
  {
   "cell_type": "markdown",
   "id": "b9ad6179",
   "metadata": {},
   "source": [
    "### Task 8\n",
    "I chose the **RandomForest Classifer** as a baseline model it gives accurate and precise results compared to many other models. \n",
    "The comparison model I am choosing is the **LogisticRegression model** because compared to RandomForest Classifier it is found to predict better for datasets with severe imbalanced ratios, and it is very efficient to train and interpret."
   ]
  },
  {
   "cell_type": "markdown",
   "id": "041fc871",
   "metadata": {},
   "source": [
    "### Task 9"
   ]
  },
  {
   "cell_type": "code",
   "execution_count": 38,
   "id": "cd0d18c0",
   "metadata": {},
   "outputs": [
    {
     "name": "stdout",
     "output_type": "stream",
     "text": [
      "Model Test Accuracy Score : 74.000%\n"
     ]
    }
   ],
   "source": [
    "# print accuracy for baseline model\n",
    "print('Model Test Accuracy Score : {:.3f}%'.format(rf_model.score(X_test, y_test) * 100))"
   ]
  },
  {
   "cell_type": "code",
   "execution_count": 39,
   "id": "ec00c63f",
   "metadata": {},
   "outputs": [
    {
     "name": "stdout",
     "output_type": "stream",
     "text": [
      "Model Test Accuracy Score : 78.000%\n"
     ]
    }
   ],
   "source": [
    "# print accuracy for comparison model\n",
    "print('Model Test Accuracy Score : {:.3f}%'.format(lrg_model.score(X_test, y_test) * 100))"
   ]
  },
  {
   "cell_type": "markdown",
   "id": "5329ba95",
   "metadata": {},
   "source": [
    "### Task 10\n",
    "\n",
    "I am choosing **accuracy** to evaluate the model because it is easy to understand implement. Accuracy focuses on correct predictions of all predictions and is a good metric to assess model performance in simple cases.\n",
    "\n",
    "The accuracy of **RandomForest Classifier** on the test set is **74.0%** and the accuracy of the **LogisticRegression model** is **78%** on the test set, meaning the Logistic Regression model predicts more correctly whether a member will attend the class or not.\n",
    "\n",
    "This is possible probably because the Logistic Regression model predicts better for datasets with severe imbalanced ratios."
   ]
  },
  {
   "cell_type": "code",
   "execution_count": null,
   "id": "880fa8f6",
   "metadata": {},
   "outputs": [],
   "source": []
  }
 ],
 "metadata": {
  "kernelspec": {
   "display_name": "Python 3 (ipykernel)",
   "language": "python",
   "name": "python3"
  },
  "language_info": {
   "codemirror_mode": {
    "name": "ipython",
    "version": 3
   },
   "file_extension": ".py",
   "mimetype": "text/x-python",
   "name": "python",
   "nbconvert_exporter": "python",
   "pygments_lexer": "ipython3",
   "version": "3.9.7"
  }
 },
 "nbformat": 4,
 "nbformat_minor": 5
}
